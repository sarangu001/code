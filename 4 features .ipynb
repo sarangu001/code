{
 "cells": [
  {
   "cell_type": "code",
   "execution_count": 1,
   "id": "99b378ac",
   "metadata": {},
   "outputs": [],
   "source": [
    "#Gaussian Naive Bayes method\n",
    "import numpy as np\n",
    "import pandas as pd \n",
    "\n",
    "import os\n",
    "import pickle\n",
    "import numpy as np\n",
    "import pandas as pd\n",
    "import sklearn\n",
    "from sklearn.naive_bayes import GaussianNB #model\n",
    "from sklearn.model_selection import train_test_split\n",
    "from sklearn.preprocessing import StandardScaler, MinMaxScaler\n",
    "from sklearn.metrics import accuracy_score, confusion_matrix, ConfusionMatrixDisplay\n",
    "from matplotlib import pyplot as plt\n",
    "import time\n",
    "\n",
    "\n",
    "\n",
    "start = time.time()"
   ]
  },
  {
   "cell_type": "code",
   "execution_count": 3,
   "id": "af7dc209",
   "metadata": {},
   "outputs": [],
   "source": [
    "data = pd.read_csv('features_4.csv')"
   ]
  },
  {
   "cell_type": "code",
   "execution_count": 4,
   "id": "c40da849",
   "metadata": {},
   "outputs": [
    {
     "data": {
      "text/html": [
       "<div>\n",
       "<style scoped>\n",
       "    .dataframe tbody tr th:only-of-type {\n",
       "        vertical-align: middle;\n",
       "    }\n",
       "\n",
       "    .dataframe tbody tr th {\n",
       "        vertical-align: top;\n",
       "    }\n",
       "\n",
       "    .dataframe thead th {\n",
       "        text-align: right;\n",
       "    }\n",
       "</style>\n",
       "<table border=\"1\" class=\"dataframe\">\n",
       "  <thead>\n",
       "    <tr style=\"text-align: right;\">\n",
       "      <th></th>\n",
       "      <th>url</th>\n",
       "      <th>domain_age</th>\n",
       "      <th>web_traffic</th>\n",
       "      <th>ratio_digits_url</th>\n",
       "      <th>domain_registration_length</th>\n",
       "      <th>status</th>\n",
       "    </tr>\n",
       "  </thead>\n",
       "  <tbody>\n",
       "    <tr>\n",
       "      <th>0</th>\n",
       "      <td>http://www.crestonwood.com/router.php</td>\n",
       "      <td>-1</td>\n",
       "      <td>0</td>\n",
       "      <td>0.000000</td>\n",
       "      <td>45</td>\n",
       "      <td>legitimate</td>\n",
       "    </tr>\n",
       "    <tr>\n",
       "      <th>1</th>\n",
       "      <td>http://shadetreetechnology.com/V4/validation/a...</td>\n",
       "      <td>5767</td>\n",
       "      <td>0</td>\n",
       "      <td>0.220779</td>\n",
       "      <td>77</td>\n",
       "      <td>phishing</td>\n",
       "    </tr>\n",
       "    <tr>\n",
       "      <th>2</th>\n",
       "      <td>https://support-appleld.com.secureupdate.duila...</td>\n",
       "      <td>4004</td>\n",
       "      <td>5828815</td>\n",
       "      <td>0.150794</td>\n",
       "      <td>14</td>\n",
       "      <td>phishing</td>\n",
       "    </tr>\n",
       "    <tr>\n",
       "      <th>3</th>\n",
       "      <td>http://rgipt.ac.in</td>\n",
       "      <td>-1</td>\n",
       "      <td>107721</td>\n",
       "      <td>0.000000</td>\n",
       "      <td>62</td>\n",
       "      <td>legitimate</td>\n",
       "    </tr>\n",
       "    <tr>\n",
       "      <th>4</th>\n",
       "      <td>http://www.iracing.com/tracks/gateway-motorspo...</td>\n",
       "      <td>8175</td>\n",
       "      <td>8725</td>\n",
       "      <td>0.000000</td>\n",
       "      <td>224</td>\n",
       "      <td>legitimate</td>\n",
       "    </tr>\n",
       "    <tr>\n",
       "      <th>...</th>\n",
       "      <td>...</td>\n",
       "      <td>...</td>\n",
       "      <td>...</td>\n",
       "      <td>...</td>\n",
       "      <td>...</td>\n",
       "      <td>...</td>\n",
       "    </tr>\n",
       "    <tr>\n",
       "      <th>11425</th>\n",
       "      <td>http://www.fontspace.com/category/blackletter</td>\n",
       "      <td>5396</td>\n",
       "      <td>3980</td>\n",
       "      <td>0.000000</td>\n",
       "      <td>448</td>\n",
       "      <td>legitimate</td>\n",
       "    </tr>\n",
       "    <tr>\n",
       "      <th>11426</th>\n",
       "      <td>http://www.budgetbots.com/server.php/Server%20...</td>\n",
       "      <td>6728</td>\n",
       "      <td>0</td>\n",
       "      <td>0.023810</td>\n",
       "      <td>211</td>\n",
       "      <td>phishing</td>\n",
       "    </tr>\n",
       "    <tr>\n",
       "      <th>11427</th>\n",
       "      <td>https://www.facebook.com/Interactive-Televisio...</td>\n",
       "      <td>8515</td>\n",
       "      <td>8</td>\n",
       "      <td>0.142857</td>\n",
       "      <td>2809</td>\n",
       "      <td>legitimate</td>\n",
       "    </tr>\n",
       "    <tr>\n",
       "      <th>11428</th>\n",
       "      <td>http://www.mypublicdomainpictures.com/</td>\n",
       "      <td>2836</td>\n",
       "      <td>2455493</td>\n",
       "      <td>0.000000</td>\n",
       "      <td>85</td>\n",
       "      <td>legitimate</td>\n",
       "    </tr>\n",
       "    <tr>\n",
       "      <th>11429</th>\n",
       "      <td>http://174.139.46.123/ap/signin?openid.pape.ma...</td>\n",
       "      <td>-1</td>\n",
       "      <td>0</td>\n",
       "      <td>0.085954</td>\n",
       "      <td>0</td>\n",
       "      <td>phishing</td>\n",
       "    </tr>\n",
       "  </tbody>\n",
       "</table>\n",
       "<p>11430 rows × 6 columns</p>\n",
       "</div>"
      ],
      "text/plain": [
       "                                                     url  domain_age  \\\n",
       "0                  http://www.crestonwood.com/router.php          -1   \n",
       "1      http://shadetreetechnology.com/V4/validation/a...        5767   \n",
       "2      https://support-appleld.com.secureupdate.duila...        4004   \n",
       "3                                     http://rgipt.ac.in          -1   \n",
       "4      http://www.iracing.com/tracks/gateway-motorspo...        8175   \n",
       "...                                                  ...         ...   \n",
       "11425      http://www.fontspace.com/category/blackletter        5396   \n",
       "11426  http://www.budgetbots.com/server.php/Server%20...        6728   \n",
       "11427  https://www.facebook.com/Interactive-Televisio...        8515   \n",
       "11428             http://www.mypublicdomainpictures.com/        2836   \n",
       "11429  http://174.139.46.123/ap/signin?openid.pape.ma...          -1   \n",
       "\n",
       "       web_traffic  ratio_digits_url  domain_registration_length      status  \n",
       "0                0          0.000000                          45  legitimate  \n",
       "1                0          0.220779                          77    phishing  \n",
       "2          5828815          0.150794                          14    phishing  \n",
       "3           107721          0.000000                          62  legitimate  \n",
       "4             8725          0.000000                         224  legitimate  \n",
       "...            ...               ...                         ...         ...  \n",
       "11425         3980          0.000000                         448  legitimate  \n",
       "11426            0          0.023810                         211    phishing  \n",
       "11427            8          0.142857                        2809  legitimate  \n",
       "11428      2455493          0.000000                          85  legitimate  \n",
       "11429            0          0.085954                           0    phishing  \n",
       "\n",
       "[11430 rows x 6 columns]"
      ]
     },
     "execution_count": 4,
     "metadata": {},
     "output_type": "execute_result"
    }
   ],
   "source": [
    "data"
   ]
  },
  {
   "cell_type": "code",
   "execution_count": 5,
   "id": "c0712975",
   "metadata": {},
   "outputs": [],
   "source": [
    "removeCols = ['url', 'status']\n",
    "featuresCol = [i for i in data.columns if i not in removeCols]\n",
    "StatusCol = 'status'\n",
    "data[StatusCol] = data[StatusCol]\n",
    "features, targets = data[featuresCol], data[StatusCol]\n"
   ]
  },
  {
   "cell_type": "code",
   "execution_count": 6,
   "id": "c2dd78ca",
   "metadata": {},
   "outputs": [],
   "source": [
    "class Scaler():\n",
    "    \n",
    "    def __init__(self, scaler, feature_range=None):\n",
    "        self.columns = None\n",
    "        self.index = None\n",
    "        self.feature_range = feature_range\n",
    "        self.scaler = scaler()\n",
    "        if (isinstance(self.scaler, sklearn.preprocessing._data.MinMaxScaler)\n",
    "            and isinstance(self.feature_range, tuple)):\n",
    "            self.scaler = scaler(feature_range = self.feature_range)\n",
    "        \n",
    "    def fit(self, X):\n",
    "        self.scaler = self.scaler.fit(X)\n",
    "        return self\n",
    "                \n",
    "    def transform(self, X):\n",
    "        scaled_X = self.scaler.transform(X)\n",
    "        \n",
    "        if isinstance(X, pd.core.frame.DataFrame):\n",
    "            self.columns = X.columns\n",
    "            self.index = X.index\n",
    "            scaled_X = pd.DataFrame(scaled_X, index=self.index, columns=self.columns)\n",
    "        return scaled_X\n",
    "    \n",
    "    def inverse_transform(self, X):\n",
    "        inversed_X = self.scaler.inverse_transform(X)\n",
    "        \n",
    "        if isinstance(X, pd.core.frame.DataFrame):\n",
    "            self.columns = X.columns\n",
    "            self.index = X.index\n",
    "            inversed_X = pd.DataFrame(inversed_X, index=self.index, columns=self.columns)\n",
    "        return inversed_X\n"
   ]
  },
  {
   "cell_type": "code",
   "execution_count": 7,
   "id": "86525d55",
   "metadata": {},
   "outputs": [],
   "source": [
    "train_size = 0.85 \n",
    "X_train, X_test, y_train, y_test = train_test_split(\n",
    "    features, targets, shuffle=True, train_size=train_size,\n",
    "    random_state=42)"
   ]
  },
  {
   "cell_type": "code",
   "execution_count": 8,
   "id": "d58c13e3",
   "metadata": {},
   "outputs": [],
   "source": [
    "scaler = Scaler(StandardScaler) \n",
    "scaler = scaler.fit(X_train)\n",
    "X_train = scaler.transform(X_train)"
   ]
  },
  {
   "cell_type": "code",
   "execution_count": 9,
   "id": "2527876c",
   "metadata": {},
   "outputs": [
    {
     "name": "stdout",
     "output_type": "stream",
     "text": [
      "\n",
      "Training Accuracy: 66.8142%\n"
     ]
    }
   ],
   "source": [
    "naive_bayes = GaussianNB() #call model\n",
    "naive_bayes = naive_bayes.fit(X_train, y_train)\n",
    "pred = naive_bayes.predict(X_train)\n",
    "print(f'\\nTraining Accuracy: {round(accuracy_score(y_train, pred)*100, 4)}%')"
   ]
  },
  {
   "cell_type": "code",
   "execution_count": 10,
   "id": "a2c7a9aa",
   "metadata": {},
   "outputs": [],
   "source": [
    "X_test = scaler.transform(X_test)\n",
    "pred = naive_bayes.predict(X_test)"
   ]
  },
  {
   "cell_type": "code",
   "execution_count": 11,
   "id": "7658b9e2",
   "metadata": {},
   "outputs": [
    {
     "data": {
      "image/png": "[encoded data removed]",
      "text/plain": [
       "<Figure size 640x480 with 2 Axes>"
      ]
     },
     "metadata": {},
     "output_type": "display_data"
    }
   ],
   "source": [
    "cm = confusion_matrix(y_test, pred)\n",
    "display_cm = ConfusionMatrixDisplay(confusion_matrix=cm, display_labels=naive_bayes.classes_)\n",
    "display_cm.plot()\n",
    "plt.show()\n"
   ]
  },
  {
   "cell_type": "code",
   "execution_count": 12,
   "id": "f97aa89d",
   "metadata": {},
   "outputs": [
    {
     "name": "stdout",
     "output_type": "stream",
     "text": [
      "Accuracy: 66.1808%\n",
      "Total time (in seconds): 187.05367493629456\n"
     ]
    }
   ],
   "source": [
    "print(f'Accuracy: {round(accuracy_score(y_test, pred)*100, 4)}%')\n",
    "end = time.time()\n",
    "finalTime = end - start\n",
    "print(\"Total time (in seconds): \" + str(finalTime))\n"
   ]
  },
  {
   "cell_type": "code",
   "execution_count": 13,
   "id": "80c23938",
   "metadata": {},
   "outputs": [],
   "source": [
    "#RF\n",
    "import pandas as pd\n",
    "import matplotlib.pyplot as plt\n",
    "import seaborn as sns\n",
    "%matplotlib inline"
   ]
  },
  {
   "cell_type": "code",
   "execution_count": 14,
   "id": "b923492c",
   "metadata": {},
   "outputs": [
    {
     "data": {
      "text/plain": [
       "url                           0\n",
       "domain_age                    0\n",
       "web_traffic                   0\n",
       "ratio_digits_url              0\n",
       "domain_registration_length    0\n",
       "status                        0\n",
       "dtype: int64"
      ]
     },
     "execution_count": 14,
     "metadata": {},
     "output_type": "execute_result"
    }
   ],
   "source": [
    "pd.set_option('display.max_rows', 500)\n",
    "data.isna().sum()\n",
    "\n"
   ]
  },
  {
   "cell_type": "code",
   "execution_count": 15,
   "id": "bbe31de8",
   "metadata": {},
   "outputs": [],
   "source": [
    "original_dataset = data.copy()\n"
   ]
  },
  {
   "cell_type": "code",
   "execution_count": 16,
   "id": "5f181da9",
   "metadata": {},
   "outputs": [],
   "source": [
    "class_map = {'legitimate':0, 'phishing':1}\n",
    "original_dataset['status'] = original_dataset['status'].map(class_map)\n"
   ]
  },
  {
   "cell_type": "code",
   "execution_count": 17,
   "id": "c1cb4fda",
   "metadata": {},
   "outputs": [],
   "source": [
    "corr_matrix = original_dataset.corr()"
   ]
  },
  {
   "cell_type": "code",
   "execution_count": 18,
   "id": "ffb2b43c",
   "metadata": {},
   "outputs": [
    {
     "data": {
      "image/png": "[encoded data removed]",
      "text/plain": [
       "<Figure size 6000x6000 with 2 Axes>"
      ]
     },
     "metadata": {},
     "output_type": "display_data"
    }
   ],
   "source": [
    "plt.figure(figsize=(60,60))\n",
    "color = plt.get_cmap('viridis').copy()   # default color\n",
    "color.set_bad('lightblue') \n",
    "sns.heatmap(corr_matrix, annot=True, linewidth=0.4, cmap=color)\n",
    "plt.savefig('heatmap')\n",
    "plt.show()"
   ]
  },
  {
   "cell_type": "code",
   "execution_count": 19,
   "id": "baeef629",
   "metadata": {},
   "outputs": [
    {
     "data": {
      "text/plain": [
       "(5, 5)"
      ]
     },
     "execution_count": 19,
     "metadata": {},
     "output_type": "execute_result"
    }
   ],
   "source": [
    "corr_matrix.shape"
   ]
  },
  {
   "cell_type": "code",
   "execution_count": 20,
   "id": "33759001",
   "metadata": {},
   "outputs": [
    {
     "data": {
      "text/plain": [
       "domain_age                   -0.331889\n",
       "web_traffic                   0.060388\n",
       "ratio_digits_url              0.356395\n",
       "domain_registration_length   -0.161719\n",
       "status                        1.000000\n",
       "Name: status, dtype: float64"
      ]
     },
     "execution_count": 20,
     "metadata": {},
     "output_type": "execute_result"
    }
   ],
   "source": [
    "corr_matrix['status']"
   ]
  },
  {
   "cell_type": "code",
   "execution_count": 21,
   "id": "e4f10ea8",
   "metadata": {},
   "outputs": [
    {
     "data": {
      "text/plain": [
       "(5,)"
      ]
     },
     "execution_count": 21,
     "metadata": {},
     "output_type": "execute_result"
    }
   ],
   "source": [
    "status_corr = corr_matrix['status']\n",
    "status_corr.shape\n"
   ]
  },
  {
   "cell_type": "code",
   "execution_count": 22,
   "id": "852c6018",
   "metadata": {},
   "outputs": [],
   "source": [
    "def feature_selector_correlation(cmatrix, threshold):\n",
    "    \n",
    "    selected_features = []\n",
    "    feature_score = []\n",
    "    i=0\n",
    "    for score in cmatrix:\n",
    "        if abs(score)>threshold:\n",
    "            selected_features.append(cmatrix.index[i])\n",
    "            feature_score.append( ['{:3f}'.format(score)])\n",
    "        i+=1\n",
    "    result = list(zip(selected_features,feature_score)) \n",
    "    return result"
   ]
  },
  {
   "cell_type": "code",
   "execution_count": 23,
   "id": "4e7dd387",
   "metadata": {},
   "outputs": [
    {
     "data": {
      "text/plain": [
       "[('domain_age', ['-0.331889']),\n",
       " ('ratio_digits_url', ['0.356395']),\n",
       " ('status', ['1.000000'])]"
      ]
     },
     "execution_count": 23,
     "metadata": {},
     "output_type": "execute_result"
    }
   ],
   "source": [
    "features_selected = feature_selector_correlation(status_corr, 0.2)\n",
    "features_selected"
   ]
  },
  {
   "cell_type": "code",
   "execution_count": 24,
   "id": "91869e0c",
   "metadata": {},
   "outputs": [
    {
     "data": {
      "text/plain": [
       "['domain_age', 'ratio_digits_url']"
      ]
     },
     "execution_count": 24,
     "metadata": {},
     "output_type": "execute_result"
    }
   ],
   "source": [
    "selected_features = [i for (i,j) in features_selected if i != 'status']\n",
    "selected_features\n"
   ]
  },
  {
   "cell_type": "code",
   "execution_count": 25,
   "id": "9c428aa3",
   "metadata": {},
   "outputs": [
    {
     "data": {
      "text/html": [
       "<div>\n",
       "<style scoped>\n",
       "    .dataframe tbody tr th:only-of-type {\n",
       "        vertical-align: middle;\n",
       "    }\n",
       "\n",
       "    .dataframe tbody tr th {\n",
       "        vertical-align: top;\n",
       "    }\n",
       "\n",
       "    .dataframe thead th {\n",
       "        text-align: right;\n",
       "    }\n",
       "</style>\n",
       "<table border=\"1\" class=\"dataframe\">\n",
       "  <thead>\n",
       "    <tr style=\"text-align: right;\">\n",
       "      <th></th>\n",
       "      <th>domain_age</th>\n",
       "      <th>ratio_digits_url</th>\n",
       "    </tr>\n",
       "  </thead>\n",
       "  <tbody>\n",
       "    <tr>\n",
       "      <th>0</th>\n",
       "      <td>-1</td>\n",
       "      <td>0.000000</td>\n",
       "    </tr>\n",
       "    <tr>\n",
       "      <th>1</th>\n",
       "      <td>5767</td>\n",
       "      <td>0.220779</td>\n",
       "    </tr>\n",
       "    <tr>\n",
       "      <th>2</th>\n",
       "      <td>4004</td>\n",
       "      <td>0.150794</td>\n",
       "    </tr>\n",
       "    <tr>\n",
       "      <th>3</th>\n",
       "      <td>-1</td>\n",
       "      <td>0.000000</td>\n",
       "    </tr>\n",
       "    <tr>\n",
       "      <th>4</th>\n",
       "      <td>8175</td>\n",
       "      <td>0.000000</td>\n",
       "    </tr>\n",
       "    <tr>\n",
       "      <th>...</th>\n",
       "      <td>...</td>\n",
       "      <td>...</td>\n",
       "    </tr>\n",
       "    <tr>\n",
       "      <th>11425</th>\n",
       "      <td>5396</td>\n",
       "      <td>0.000000</td>\n",
       "    </tr>\n",
       "    <tr>\n",
       "      <th>11426</th>\n",
       "      <td>6728</td>\n",
       "      <td>0.023810</td>\n",
       "    </tr>\n",
       "    <tr>\n",
       "      <th>11427</th>\n",
       "      <td>8515</td>\n",
       "      <td>0.142857</td>\n",
       "    </tr>\n",
       "    <tr>\n",
       "      <th>11428</th>\n",
       "      <td>2836</td>\n",
       "      <td>0.000000</td>\n",
       "    </tr>\n",
       "    <tr>\n",
       "      <th>11429</th>\n",
       "      <td>-1</td>\n",
       "      <td>0.085954</td>\n",
       "    </tr>\n",
       "  </tbody>\n",
       "</table>\n",
       "<p>11430 rows × 2 columns</p>\n",
       "</div>"
      ],
      "text/plain": [
       "       domain_age  ratio_digits_url\n",
       "0              -1          0.000000\n",
       "1            5767          0.220779\n",
       "2            4004          0.150794\n",
       "3              -1          0.000000\n",
       "4            8175          0.000000\n",
       "...           ...               ...\n",
       "11425        5396          0.000000\n",
       "11426        6728          0.023810\n",
       "11427        8515          0.142857\n",
       "11428        2836          0.000000\n",
       "11429          -1          0.085954\n",
       "\n",
       "[11430 rows x 2 columns]"
      ]
     },
     "execution_count": 25,
     "metadata": {},
     "output_type": "execute_result"
    }
   ],
   "source": [
    "X_selected = original_dataset[selected_features]\n",
    "X_selected"
   ]
  },
  {
   "cell_type": "code",
   "execution_count": 26,
   "id": "1972ac87",
   "metadata": {},
   "outputs": [
    {
     "data": {
      "text/plain": [
       "(11430, 2)"
      ]
     },
     "execution_count": 26,
     "metadata": {},
     "output_type": "execute_result"
    }
   ],
   "source": [
    "X_selected.shape"
   ]
  },
  {
   "cell_type": "code",
   "execution_count": 27,
   "id": "14f9a55a",
   "metadata": {},
   "outputs": [
    {
     "data": {
      "text/plain": [
       "0        0\n",
       "1        1\n",
       "2        1\n",
       "3        0\n",
       "4        0\n",
       "        ..\n",
       "11425    0\n",
       "11426    1\n",
       "11427    0\n",
       "11428    0\n",
       "11429    1\n",
       "Name: status, Length: 11430, dtype: int64"
      ]
     },
     "execution_count": 27,
     "metadata": {},
     "output_type": "execute_result"
    }
   ],
   "source": [
    "y = original_dataset['status']\n",
    "y\n"
   ]
  },
  {
   "cell_type": "code",
   "execution_count": 28,
   "id": "35f6b8f4",
   "metadata": {},
   "outputs": [],
   "source": [
    "from sklearn.model_selection import train_test_split\n"
   ]
  },
  {
   "cell_type": "code",
   "execution_count": 29,
   "id": "c2e38f85",
   "metadata": {},
   "outputs": [],
   "source": [
    "X_train, X_test, y_train, y_test = train_test_split(X_selected, y,\n",
    "                                                    test_size=0.2,\n",
    "                                                    random_state=42,\n",
    "                                                    shuffle = True)\n"
   ]
  },
  {
   "cell_type": "code",
   "execution_count": 30,
   "id": "1bfc6eba",
   "metadata": {},
   "outputs": [],
   "source": [
    "from sklearn.ensemble import RandomForestClassifier"
   ]
  },
  {
   "cell_type": "code",
   "execution_count": 31,
   "id": "8f5c5f22",
   "metadata": {},
   "outputs": [
    {
     "data": {
      "text/plain": [
       "RandomForestClassifier(n_estimators=350, random_state=42)"
      ]
     },
     "execution_count": 31,
     "metadata": {},
     "output_type": "execute_result"
    }
   ],
   "source": [
    "model_random_forest = RandomForestClassifier(n_estimators=350,\n",
    "                                             random_state=42,\n",
    "                                             )\n",
    "\n",
    "\n",
    "model_random_forest.fit(X_train,y_train)\n"
   ]
  },
  {
   "cell_type": "code",
   "execution_count": 32,
   "id": "b1d89d5a",
   "metadata": {},
   "outputs": [],
   "source": [
    "from sklearn import preprocessing\n",
    "from sklearn.metrics import accuracy_score, confusion_matrix, roc_auc_score\n"
   ]
  },
  {
   "cell_type": "code",
   "execution_count": 33,
   "id": "38f9fc0f",
   "metadata": {},
   "outputs": [],
   "source": [
    "def custom_accuracy_set (model, X_train, X_test, y_train, y_test, train=True):\n",
    "    \n",
    "    lb = preprocessing.LabelBinarizer()\n",
    "    lb.fit(y_train)\n",
    "    \n",
    "    \n",
    "    if train:\n",
    "        x = X_train\n",
    "        y = y_train\n",
    "    elif not train:\n",
    "        x = X_test\n",
    "        y = y_test\n",
    "        \n",
    "    y_predicted = model.predict(x)\n",
    "    \n",
    "    accuracy = accuracy_score(y, y_predicted)\n",
    "    print('model accuracy: {0:4f}'.format(accuracy))\n",
    "    oconfusion_matrix = confusion_matrix(y, y_predicted)\n",
    "    print('Confusion matrix: \\n {}'.format(oconfusion_matrix))\n",
    "    oroc_auc_score = lb.transform(y), lb.transform(y_predicted)\t"
   ]
  },
  {
   "cell_type": "code",
   "execution_count": 34,
   "id": "9a548b5c",
   "metadata": {},
   "outputs": [
    {
     "name": "stdout",
     "output_type": "stream",
     "text": [
      "model accuracy: 0.932305\n",
      "Confusion matrix: \n",
      " [[4436  122]\n",
      " [ 497 4089]]\n"
     ]
    }
   ],
   "source": [
    "custom_accuracy_set(model_random_forest, X_train, X_test, y_train, y_test, train=True)\n"
   ]
  },
  {
   "cell_type": "code",
   "execution_count": 35,
   "id": "06a11549",
   "metadata": {},
   "outputs": [
    {
     "name": "stdout",
     "output_type": "stream",
     "text": [
      "model accuracy: 0.776465\n",
      "Confusion matrix: \n",
      " [[913 244]\n",
      " [267 862]]\n"
     ]
    }
   ],
   "source": [
    "custom_accuracy_set(model_random_forest, X_train, X_test, y_train, y_test, train=False)"
   ]
  },
  {
   "cell_type": "code",
   "execution_count": 36,
   "id": "bb44a8ef",
   "metadata": {},
   "outputs": [],
   "source": [
    "#MLP\n",
    "import numpy as np\n",
    "import pandas as pd\n",
    "from sklearn.metrics import confusion_matrix , accuracy_score , precision_score , recall_score , f1_score\n",
    "from sklearn.feature_selection import SelectPercentile , chi2 , f_classif\n",
    "from sklearn.model_selection import train_test_split\n",
    "import sklearn.metrics\n",
    "from sklearn.linear_model import LogisticRegression\n",
    "from sklearn.svm import SVC\n",
    "import matplotlib.pyplot as plt\n",
    "from sklearn.preprocessing import StandardScaler\n",
    "from sklearn.neural_network import MLPClassifier"
   ]
  },
  {
   "cell_type": "code",
   "execution_count": 37,
   "id": "6763e2d7",
   "metadata": {},
   "outputs": [],
   "source": [
    "X = data.copy()\n",
    "\n",
    "Y = data[\"status\"]\n",
    "\n",
    "X.drop([\"status\" , \"url\"] , axis=1 , inplace=True)\n",
    "\n",
    "Cols = X.columns;\n",
    "\n",
    "Y = Y == \"legitimate\""
   ]
  },
  {
   "cell_type": "code",
   "execution_count": 38,
   "id": "224c76e4",
   "metadata": {},
   "outputs": [],
   "source": [
    "Scaler = StandardScaler(copy=True , with_mean=True , with_std=True)\n",
    "X = Scaler.fit_transform(X)\n"
   ]
  },
  {
   "cell_type": "code",
   "execution_count": 39,
   "id": "0ec0c872",
   "metadata": {},
   "outputs": [],
   "source": [
    "SP = SelectPercentile(score_func=f_classif , percentile=60)"
   ]
  },
  {
   "cell_type": "code",
   "execution_count": 40,
   "id": "7f91a506",
   "metadata": {},
   "outputs": [],
   "source": [
    "X = SP.fit_transform(X , Y)\n"
   ]
  },
  {
   "cell_type": "code",
   "execution_count": 41,
   "id": "b0e1ffb1",
   "metadata": {},
   "outputs": [
    {
     "name": "stdout",
     "output_type": "stream",
     "text": [
      "Number Of Features :  Index(['domain_age', 'ratio_digits_url'], dtype='object')\n"
     ]
    }
   ],
   "source": [
    "print(\"Number Of Features : \" , Cols[SP.get_support()])"
   ]
  },
  {
   "cell_type": "code",
   "execution_count": 42,
   "id": "48c19018",
   "metadata": {},
   "outputs": [],
   "source": [
    "x_train , x_test , y_train , y_test = train_test_split(X , Y , test_size=0.20 , random_state=10 , shuffle=True)\n"
   ]
  },
  {
   "cell_type": "code",
   "execution_count": 43,
   "id": "fe6bf192",
   "metadata": {},
   "outputs": [
    {
     "name": "stdout",
     "output_type": "stream",
     "text": [
      "Score Model For Training Data :  0.7458442694663167\n"
     ]
    },
    {
     "name": "stderr",
     "output_type": "stream",
     "text": [
      "C:\\Users\\18145\\anaconda3\\lib\\site-packages\\sklearn\\neural_network\\_multilayer_perceptron.py:692: ConvergenceWarning: Stochastic Optimizer: Maximum iterations (100) reached and the optimization hasn't converged yet.\n",
      "  warnings.warn(\n"
     ]
    }
   ],
   "source": [
    "Model = MLPClassifier(solver='adam' , alpha=0.01 , hidden_layer_sizes=(100 , 100 , 100 , 100) , max_iter=100 , random_state=44)\n",
    "Ans1 = Model.fit(x_train , y_train)\n",
    "print(\"Score Model For Training Data : \" , Model.score(x_train , y_train))"
   ]
  },
  {
   "cell_type": "code",
   "execution_count": 44,
   "id": "3a55f766",
   "metadata": {},
   "outputs": [
    {
     "name": "stdout",
     "output_type": "stream",
     "text": [
      "Confusion Matrix of the Test Set\n",
      "-----------\n",
      "[[687 447]\n",
      " [161 991]]\n",
      "Precision of the MLP :\t0.6891515994436718\n",
      "Recall of the MLP    :\t0.8602430555555556\n",
      "F1 Score of the MLP :\t0.7652509652509653\n",
      "Accuracy Score of the MLP :\t0.7340332458442694\n"
     ]
    }
   ],
   "source": [
    "YPred = Ans1.predict(x_test)\n",
    "conf_matrix = confusion_matrix(y_test ,YPred)\n",
    "print(\"Confusion Matrix of the Test Set\")\n",
    "print(\"-----------\")\n",
    "print(conf_matrix)\n",
    "print(\"Precision of the MLP :\\t\"+str(precision_score(y_test,YPred)))\n",
    "print(\"Recall of the MLP    :\\t\"+str(recall_score(y_test,YPred)))\n",
    "print(\"F1 Score of the MLP :\\t\"+str(f1_score(y_test,YPred)))\n",
    "print(\"Accuracy Score of the MLP :\\t\"+str(accuracy_score(y_test,YPred)))\n"
   ]
  },
  {
   "cell_type": "code",
   "execution_count": 45,
   "id": "b3ec6a25",
   "metadata": {},
   "outputs": [],
   "source": [
    "#XGBoost\n",
    "import numpy as np # linear algebra\n",
    "import pandas as pd # data processing, CSV file I/O (e.g. pd.read_csv)\n",
    "import os"
   ]
  },
  {
   "cell_type": "code",
   "execution_count": 46,
   "id": "43345439",
   "metadata": {},
   "outputs": [
    {
     "name": "stdout",
     "output_type": "stream",
     "text": [
      "Requirement already satisfied: xgboost in c:\\users\\18145\\anaconda3\\lib\\site-packages (1.7.5)\n",
      "Requirement already satisfied: scipy in c:\\users\\18145\\anaconda3\\lib\\site-packages (from xgboost) (1.9.1)\n",
      "Requirement already satisfied: numpy in c:\\users\\18145\\anaconda3\\lib\\site-packages (from xgboost) (1.23.5)\n",
      "Note: you may need to restart the kernel to use updated packages.\n"
     ]
    }
   ],
   "source": [
    "pip install xgboost"
   ]
  },
  {
   "cell_type": "code",
   "execution_count": 47,
   "id": "76c5807d",
   "metadata": {},
   "outputs": [],
   "source": [
    "import pandas as pd\n",
    "\n",
    "from sklearn.compose import ColumnTransformer\n",
    "from sklearn.pipeline import Pipeline\n",
    "from sklearn.impute import SimpleImputer\n",
    "from sklearn.preprocessing import OneHotEncoder\n",
    "from sklearn.ensemble import RandomForestRegressor\n",
    "from sklearn.ensemble import RandomForestClassifier\n",
    "from sklearn.metrics import mean_absolute_error\n",
    "from sklearn.metrics import balanced_accuracy_score\n",
    "from xgboost import XGBRegressor\n",
    "\n",
    "import matplotlib.pyplot as plt\n",
    "from sklearn.linear_model import LogisticRegression\n",
    "\n",
    "data.columns\n",
    "\n",
    "\n",
    "\n",
    "\n",
    "from sklearn.model_selection import train_test_split\n"
   ]
  },
  {
   "cell_type": "code",
   "execution_count": 48,
   "id": "57a61504",
   "metadata": {},
   "outputs": [],
   "source": [
    "y = data.status\n",
    "X = data.drop(['status'], axis=1)"
   ]
  },
  {
   "cell_type": "code",
   "execution_count": 49,
   "id": "7439bb1e",
   "metadata": {},
   "outputs": [],
   "source": [
    "X_train_full, X_valid_full, y_train, y_valid = train_test_split(X, y, train_size=0.8, test_size=0.2,\n",
    "                                                                random_state=0)"
   ]
  },
  {
   "cell_type": "code",
   "execution_count": 50,
   "id": "d03abfe9",
   "metadata": {},
   "outputs": [],
   "source": [
    "categorical_cols = [cname for cname in X_train_full.columns if X_train_full[cname].nunique() < 10 and \n",
    "                        X_train_full[cname].dtype == \"object\"]\n"
   ]
  },
  {
   "cell_type": "code",
   "execution_count": 51,
   "id": "f32a5b5f",
   "metadata": {},
   "outputs": [],
   "source": [
    "numerical_cols = [cname for cname in X_train_full.columns if X_train_full[cname].dtype in ['int64', 'float64']]\n"
   ]
  },
  {
   "cell_type": "code",
   "execution_count": 52,
   "id": "133b4906",
   "metadata": {},
   "outputs": [],
   "source": [
    "my_cols = categorical_cols + numerical_cols\n",
    "X_train = X_train_full[my_cols].copy()\n",
    "X_valid = X_valid_full[my_cols].copy()\n",
    "\n"
   ]
  },
  {
   "cell_type": "code",
   "execution_count": 53,
   "id": "f2c84897",
   "metadata": {},
   "outputs": [],
   "source": [
    "numerical_transformer = SimpleImputer(strategy='constant')\n",
    "\n"
   ]
  },
  {
   "cell_type": "code",
   "execution_count": 54,
   "id": "8ad39766",
   "metadata": {},
   "outputs": [],
   "source": [
    "categorical_transformer = Pipeline(steps=[\n",
    "    ('imputer', SimpleImputer(strategy='most_frequent')),\n",
    "    ('onehot', OneHotEncoder(handle_unknown='ignore'))\n",
    "])\n"
   ]
  },
  {
   "cell_type": "code",
   "execution_count": 55,
   "id": "79ff67ba",
   "metadata": {},
   "outputs": [],
   "source": [
    "preprocessor = ColumnTransformer(\n",
    "    transformers=[\n",
    "        ('num', numerical_transformer, numerical_cols),\n",
    "        ('cat', categorical_transformer, categorical_cols)\n",
    "    ])\n"
   ]
  },
  {
   "cell_type": "code",
   "execution_count": 56,
   "id": "75b98105",
   "metadata": {},
   "outputs": [
    {
     "name": "stdout",
     "output_type": "stream",
     "text": [
      "<bound method NDFrame.describe of                                                      url  domain_age  \\\n",
      "0                  http://www.crestonwood.com/router.php          -1   \n",
      "1      http://shadetreetechnology.com/V4/validation/a...        5767   \n",
      "2      https://support-appleld.com.secureupdate.duila...        4004   \n",
      "3                                     http://rgipt.ac.in          -1   \n",
      "4      http://www.iracing.com/tracks/gateway-motorspo...        8175   \n",
      "...                                                  ...         ...   \n",
      "11425      http://www.fontspace.com/category/blackletter        5396   \n",
      "11426  http://www.budgetbots.com/server.php/Server%20...        6728   \n",
      "11427  https://www.facebook.com/Interactive-Televisio...        8515   \n",
      "11428             http://www.mypublicdomainpictures.com/        2836   \n",
      "11429  http://174.139.46.123/ap/signin?openid.pape.ma...          -1   \n",
      "\n",
      "       web_traffic  ratio_digits_url  domain_registration_length      status  \n",
      "0                0          0.000000                          45  legitimate  \n",
      "1                0          0.220779                          77    phishing  \n",
      "2          5828815          0.150794                          14    phishing  \n",
      "3           107721          0.000000                          62  legitimate  \n",
      "4             8725          0.000000                         224  legitimate  \n",
      "...            ...               ...                         ...         ...  \n",
      "11425         3980          0.000000                         448  legitimate  \n",
      "11426            0          0.023810                         211    phishing  \n",
      "11427            8          0.142857                        2809  legitimate  \n",
      "11428      2455493          0.000000                          85  legitimate  \n",
      "11429            0          0.085954                           0    phishing  \n",
      "\n",
      "[11430 rows x 6 columns]>\n"
     ]
    }
   ],
   "source": [
    "print(data.describe)"
   ]
  },
  {
   "cell_type": "code",
   "execution_count": 57,
   "id": "16aeddb8",
   "metadata": {},
   "outputs": [],
   "source": [
    "from sklearn.preprocessing import LabelEncoder\n",
    "le = LabelEncoder()\n",
    "y_train = le.fit_transform(y_train)\n"
   ]
  },
  {
   "cell_type": "code",
   "execution_count": 58,
   "id": "edf2fe82",
   "metadata": {},
   "outputs": [],
   "source": [
    "y_valid = le.fit_transform(y_valid)"
   ]
  },
  {
   "cell_type": "code",
   "execution_count": 59,
   "id": "c539e435",
   "metadata": {},
   "outputs": [
    {
     "name": "stdout",
     "output_type": "stream",
     "text": [
      "[0 1 0 ... 1 1 1]\n"
     ]
    }
   ],
   "source": [
    "print(y_train)"
   ]
  },
  {
   "cell_type": "code",
   "execution_count": 60,
   "id": "7f0aad6f",
   "metadata": {},
   "outputs": [],
   "source": [
    "import xgboost as xgb\n",
    "from sklearn.metrics import accuracy_score"
   ]
  },
  {
   "cell_type": "code",
   "execution_count": 61,
   "id": "e25e3186",
   "metadata": {},
   "outputs": [],
   "source": [
    "model = xgb.XGBClassifier()"
   ]
  },
  {
   "cell_type": "code",
   "execution_count": 62,
   "id": "b3610041",
   "metadata": {},
   "outputs": [],
   "source": [
    "my_pipeline = Pipeline(steps=[('preprocessor', preprocessor),\n",
    "                              ('model', model)\n",
    "                             ])"
   ]
  },
  {
   "cell_type": "code",
   "execution_count": 63,
   "id": "d7848f2a",
   "metadata": {},
   "outputs": [
    {
     "data": {
      "text/plain": [
       "Pipeline(steps=[('preprocessor',\n",
       "                 ColumnTransformer(transformers=[('num',\n",
       "                                                  SimpleImputer(strategy='constant'),\n",
       "                                                  ['domain_age', 'web_traffic',\n",
       "                                                   'ratio_digits_url',\n",
       "                                                   'domain_registration_length']),\n",
       "                                                 ('cat',\n",
       "                                                  Pipeline(steps=[('imputer',\n",
       "                                                                   SimpleImputer(strategy='most_frequent')),\n",
       "                                                                  ('onehot',\n",
       "                                                                   OneHotEncoder(handle_unknown='ignore'))]),\n",
       "                                                  [])])),\n",
       "                ('model',\n",
       "                 XGBClassifier(base_scor...\n",
       "                               feature_types=None, gamma=None, gpu_id=None,\n",
       "                               grow_policy=None, importance_type=None,\n",
       "                               interaction_constraints=None, learning_rate=None,\n",
       "                               max_bin=None, max_cat_threshold=None,\n",
       "                               max_cat_to_onehot=None, max_delta_step=None,\n",
       "                               max_depth=None, max_leaves=None,\n",
       "                               min_child_weight=None, missing=nan,\n",
       "                               monotone_constraints=None, n_estimators=100,\n",
       "                               n_jobs=None, num_parallel_tree=None,\n",
       "                               predictor=None, random_state=None, ...))])"
      ]
     },
     "execution_count": 63,
     "metadata": {},
     "output_type": "execute_result"
    }
   ],
   "source": [
    "my_pipeline.fit(X_train, y_train)\n"
   ]
  },
  {
   "cell_type": "code",
   "execution_count": 64,
   "id": "c33e09b8",
   "metadata": {},
   "outputs": [
    {
     "name": "stdout",
     "output_type": "stream",
     "text": [
      "0.8775153105861767\n"
     ]
    }
   ],
   "source": [
    "preds = my_pipeline.predict(X_valid)\n",
    "print(accuracy_score(preds,y_valid))"
   ]
  },
  {
   "cell_type": "code",
   "execution_count": null,
   "id": "0fdf8a21",
   "metadata": {},
   "outputs": [],
   "source": []
  }
 ],
 "metadata": {
  "kernelspec": {
   "display_name": "Python 3 (ipykernel)",
   "language": "python",
   "name": "python3"
  },
  "language_info": {
   "codemirror_mode": {
    "name": "ipython",
    "version": 3
   },
   "file_extension": ".py",
   "mimetype": "text/x-python",
   "name": "python",
   "nbconvert_exporter": "python",
   "pygments_lexer": "ipython3",
   "version": "3.9.13"
  }
 },
 "nbformat": 4,
 "nbformat_minor": 5
}
