{
 "cells": [
  {
   "cell_type": "code",
   "execution_count": 11,
   "id": "04f94bee",
   "metadata": {},
   "outputs": [],
   "source": [
    "#Gaussian Naive Bayes method\n",
    "import numpy as np\n",
    "import pandas as pd \n",
    "\n",
    "import os\n",
    "import pickle\n",
    "import numpy as np\n",
    "import pandas as pd\n",
    "import sklearn\n",
    "from sklearn.naive_bayes import GaussianNB #model\n",
    "from sklearn.model_selection import train_test_split\n",
    "from sklearn.preprocessing import StandardScaler, MinMaxScaler\n",
    "from sklearn.metrics import accuracy_score, confusion_matrix, ConfusionMatrixDisplay\n",
    "from matplotlib import pyplot as plt\n",
    "import time\n",
    "\n",
    "\n",
    "\n",
    "start = time.time()"
   ]
  },
  {
   "cell_type": "code",
   "execution_count": 12,
   "id": "29c6d690",
   "metadata": {},
   "outputs": [],
   "source": [
    "data = pd.read_csv('features_6.csv')"
   ]
  },
  {
   "cell_type": "code",
   "execution_count": 13,
   "id": "942f9ae4",
   "metadata": {},
   "outputs": [
    {
     "data": {
      "text/html": [
       "<div>\n",
       "<style scoped>\n",
       "    .dataframe tbody tr th:only-of-type {\n",
       "        vertical-align: middle;\n",
       "    }\n",
       "\n",
       "    .dataframe tbody tr th {\n",
       "        vertical-align: top;\n",
       "    }\n",
       "\n",
       "    .dataframe thead th {\n",
       "        text-align: right;\n",
       "    }\n",
       "</style>\n",
       "<table border=\"1\" class=\"dataframe\">\n",
       "  <thead>\n",
       "    <tr style=\"text-align: right;\">\n",
       "      <th></th>\n",
       "      <th>url</th>\n",
       "      <th>domain_registration_length</th>\n",
       "      <th>ratio_digits_url</th>\n",
       "      <th>ratio_intHyperlinks</th>\n",
       "      <th>ratio_extHyperlinks</th>\n",
       "      <th>domain_age</th>\n",
       "      <th>web_traffic</th>\n",
       "      <th>status</th>\n",
       "    </tr>\n",
       "  </thead>\n",
       "  <tbody>\n",
       "    <tr>\n",
       "      <th>0</th>\n",
       "      <td>http://www.crestonwood.com/router.php</td>\n",
       "      <td>45</td>\n",
       "      <td>0.000000</td>\n",
       "      <td>0.529412</td>\n",
       "      <td>0.470588</td>\n",
       "      <td>-1</td>\n",
       "      <td>0</td>\n",
       "      <td>legitimate</td>\n",
       "    </tr>\n",
       "    <tr>\n",
       "      <th>1</th>\n",
       "      <td>http://shadetreetechnology.com/V4/validation/a...</td>\n",
       "      <td>77</td>\n",
       "      <td>0.220779</td>\n",
       "      <td>0.966667</td>\n",
       "      <td>0.033333</td>\n",
       "      <td>5767</td>\n",
       "      <td>0</td>\n",
       "      <td>phishing</td>\n",
       "    </tr>\n",
       "    <tr>\n",
       "      <th>2</th>\n",
       "      <td>https://support-appleld.com.secureupdate.duila...</td>\n",
       "      <td>14</td>\n",
       "      <td>0.150794</td>\n",
       "      <td>1.000000</td>\n",
       "      <td>0.000000</td>\n",
       "      <td>4004</td>\n",
       "      <td>5828815</td>\n",
       "      <td>phishing</td>\n",
       "    </tr>\n",
       "    <tr>\n",
       "      <th>3</th>\n",
       "      <td>http://rgipt.ac.in</td>\n",
       "      <td>62</td>\n",
       "      <td>0.000000</td>\n",
       "      <td>0.973154</td>\n",
       "      <td>0.026846</td>\n",
       "      <td>-1</td>\n",
       "      <td>107721</td>\n",
       "      <td>legitimate</td>\n",
       "    </tr>\n",
       "    <tr>\n",
       "      <th>4</th>\n",
       "      <td>http://www.iracing.com/tracks/gateway-motorspo...</td>\n",
       "      <td>224</td>\n",
       "      <td>0.000000</td>\n",
       "      <td>0.470588</td>\n",
       "      <td>0.529412</td>\n",
       "      <td>8175</td>\n",
       "      <td>8725</td>\n",
       "      <td>legitimate</td>\n",
       "    </tr>\n",
       "    <tr>\n",
       "      <th>...</th>\n",
       "      <td>...</td>\n",
       "      <td>...</td>\n",
       "      <td>...</td>\n",
       "      <td>...</td>\n",
       "      <td>...</td>\n",
       "      <td>...</td>\n",
       "      <td>...</td>\n",
       "      <td>...</td>\n",
       "    </tr>\n",
       "    <tr>\n",
       "      <th>11425</th>\n",
       "      <td>http://www.fontspace.com/category/blackletter</td>\n",
       "      <td>448</td>\n",
       "      <td>0.000000</td>\n",
       "      <td>0.884422</td>\n",
       "      <td>0.115578</td>\n",
       "      <td>5396</td>\n",
       "      <td>3980</td>\n",
       "      <td>legitimate</td>\n",
       "    </tr>\n",
       "    <tr>\n",
       "      <th>11426</th>\n",
       "      <td>http://www.budgetbots.com/server.php/Server%20...</td>\n",
       "      <td>211</td>\n",
       "      <td>0.023810</td>\n",
       "      <td>1.000000</td>\n",
       "      <td>0.000000</td>\n",
       "      <td>6728</td>\n",
       "      <td>0</td>\n",
       "      <td>phishing</td>\n",
       "    </tr>\n",
       "    <tr>\n",
       "      <th>11427</th>\n",
       "      <td>https://www.facebook.com/Interactive-Televisio...</td>\n",
       "      <td>2809</td>\n",
       "      <td>0.142857</td>\n",
       "      <td>0.470588</td>\n",
       "      <td>0.529412</td>\n",
       "      <td>8515</td>\n",
       "      <td>8</td>\n",
       "      <td>legitimate</td>\n",
       "    </tr>\n",
       "    <tr>\n",
       "      <th>11428</th>\n",
       "      <td>http://www.mypublicdomainpictures.com/</td>\n",
       "      <td>85</td>\n",
       "      <td>0.000000</td>\n",
       "      <td>0.375000</td>\n",
       "      <td>0.625000</td>\n",
       "      <td>2836</td>\n",
       "      <td>2455493</td>\n",
       "      <td>legitimate</td>\n",
       "    </tr>\n",
       "    <tr>\n",
       "      <th>11429</th>\n",
       "      <td>http://174.139.46.123/ap/signin?openid.pape.ma...</td>\n",
       "      <td>0</td>\n",
       "      <td>0.085954</td>\n",
       "      <td>0.428571</td>\n",
       "      <td>0.571429</td>\n",
       "      <td>-1</td>\n",
       "      <td>0</td>\n",
       "      <td>phishing</td>\n",
       "    </tr>\n",
       "  </tbody>\n",
       "</table>\n",
       "<p>11430 rows × 8 columns</p>\n",
       "</div>"
      ],
      "text/plain": [
       "                                                     url  \\\n",
       "0                  http://www.crestonwood.com/router.php   \n",
       "1      http://shadetreetechnology.com/V4/validation/a...   \n",
       "2      https://support-appleld.com.secureupdate.duila...   \n",
       "3                                     http://rgipt.ac.in   \n",
       "4      http://www.iracing.com/tracks/gateway-motorspo...   \n",
       "...                                                  ...   \n",
       "11425      http://www.fontspace.com/category/blackletter   \n",
       "11426  http://www.budgetbots.com/server.php/Server%20...   \n",
       "11427  https://www.facebook.com/Interactive-Televisio...   \n",
       "11428             http://www.mypublicdomainpictures.com/   \n",
       "11429  http://174.139.46.123/ap/signin?openid.pape.ma...   \n",
       "\n",
       "       domain_registration_length  ratio_digits_url  ratio_intHyperlinks  \\\n",
       "0                              45          0.000000             0.529412   \n",
       "1                              77          0.220779             0.966667   \n",
       "2                              14          0.150794             1.000000   \n",
       "3                              62          0.000000             0.973154   \n",
       "4                             224          0.000000             0.470588   \n",
       "...                           ...               ...                  ...   \n",
       "11425                         448          0.000000             0.884422   \n",
       "11426                         211          0.023810             1.000000   \n",
       "11427                        2809          0.142857             0.470588   \n",
       "11428                          85          0.000000             0.375000   \n",
       "11429                           0          0.085954             0.428571   \n",
       "\n",
       "       ratio_extHyperlinks  domain_age  web_traffic      status  \n",
       "0                 0.470588          -1            0  legitimate  \n",
       "1                 0.033333        5767            0    phishing  \n",
       "2                 0.000000        4004      5828815    phishing  \n",
       "3                 0.026846          -1       107721  legitimate  \n",
       "4                 0.529412        8175         8725  legitimate  \n",
       "...                    ...         ...          ...         ...  \n",
       "11425             0.115578        5396         3980  legitimate  \n",
       "11426             0.000000        6728            0    phishing  \n",
       "11427             0.529412        8515            8  legitimate  \n",
       "11428             0.625000        2836      2455493  legitimate  \n",
       "11429             0.571429          -1            0    phishing  \n",
       "\n",
       "[11430 rows x 8 columns]"
      ]
     },
     "execution_count": 13,
     "metadata": {},
     "output_type": "execute_result"
    }
   ],
   "source": [
    "data"
   ]
  },
  {
   "cell_type": "code",
   "execution_count": 14,
   "id": "3b54ad5d",
   "metadata": {},
   "outputs": [],
   "source": [
    "removeCols = ['url', 'status']\n",
    "featuresCol = [i for i in data.columns if i not in removeCols]\n",
    "StatusCol = 'status'\n",
    "data[StatusCol] = data[StatusCol]\n",
    "features, targets = data[featuresCol], data[StatusCol]\n"
   ]
  },
  {
   "cell_type": "code",
   "execution_count": 15,
   "id": "246a75a3",
   "metadata": {},
   "outputs": [],
   "source": [
    "class Scaler():\n",
    "    \n",
    "    def __init__(self, scaler, feature_range=None):\n",
    "        self.columns = None\n",
    "        self.index = None\n",
    "        self.feature_range = feature_range\n",
    "        self.scaler = scaler()\n",
    "        if (isinstance(self.scaler, sklearn.preprocessing._data.MinMaxScaler)\n",
    "            and isinstance(self.feature_range, tuple)):\n",
    "            self.scaler = scaler(feature_range = self.feature_range)\n",
    "        \n",
    "    def fit(self, X):\n",
    "        self.scaler = self.scaler.fit(X)\n",
    "        return self\n",
    "                \n",
    "    def transform(self, X):\n",
    "        scaled_X = self.scaler.transform(X)\n",
    "        \n",
    "        if isinstance(X, pd.core.frame.DataFrame):\n",
    "            self.columns = X.columns\n",
    "            self.index = X.index\n",
    "            scaled_X = pd.DataFrame(scaled_X, index=self.index, columns=self.columns)\n",
    "        return scaled_X\n",
    "    \n",
    "    def inverse_transform(self, X):\n",
    "        inversed_X = self.scaler.inverse_transform(X)\n",
    "        \n",
    "        if isinstance(X, pd.core.frame.DataFrame):\n",
    "            self.columns = X.columns\n",
    "            self.index = X.index\n",
    "            inversed_X = pd.DataFrame(inversed_X, index=self.index, columns=self.columns)\n",
    "        return inversed_X\n"
   ]
  },
  {
   "cell_type": "code",
   "execution_count": 16,
   "id": "fbbcdf5d",
   "metadata": {},
   "outputs": [],
   "source": [
    "train_size = 0.85 \n",
    "X_train, X_test, y_train, y_test = train_test_split(\n",
    "    features, targets, shuffle=True, train_size=train_size,\n",
    "    random_state=42)"
   ]
  },
  {
   "cell_type": "code",
   "execution_count": 17,
   "id": "340e5cc8",
   "metadata": {},
   "outputs": [],
   "source": [
    "scaler = Scaler(StandardScaler) \n",
    "scaler = scaler.fit(X_train)\n",
    "X_train = scaler.transform(X_train)"
   ]
  },
  {
   "cell_type": "code",
   "execution_count": 18,
   "id": "d092edd7",
   "metadata": {},
   "outputs": [
    {
     "name": "stdout",
     "output_type": "stream",
     "text": [
      "\n",
      "Training Accuracy: 73.2784%\n"
     ]
    }
   ],
   "source": [
    "naive_bayes = GaussianNB() #call model\n",
    "naive_bayes = naive_bayes.fit(X_train, y_train)\n",
    "pred = naive_bayes.predict(X_train)\n",
    "print(f'\\nTraining Accuracy: {round(accuracy_score(y_train, pred)*100, 4)}%')"
   ]
  },
  {
   "cell_type": "code",
   "execution_count": 19,
   "id": "b1638915",
   "metadata": {},
   "outputs": [],
   "source": [
    "X_test = scaler.transform(X_test)\n",
    "pred = naive_bayes.predict(X_test)"
   ]
  },
  {
   "cell_type": "code",
   "execution_count": 20,
   "id": "2799f9ee",
   "metadata": {},
   "outputs": [
    {
     "data": {
      "image/png": "[encoded data removed]",
      "text/plain": [
       "<Figure size 640x480 with 2 Axes>"
      ]
     },
     "metadata": {},
     "output_type": "display_data"
    }
   ],
   "source": [
    "cm = confusion_matrix(y_test, pred)\n",
    "display_cm = ConfusionMatrixDisplay(confusion_matrix=cm, display_labels=naive_bayes.classes_)\n",
    "display_cm.plot()\n",
    "plt.show()\n"
   ]
  },
  {
   "cell_type": "code",
   "execution_count": 21,
   "id": "af1d207d",
   "metadata": {},
   "outputs": [
    {
     "name": "stdout",
     "output_type": "stream",
     "text": [
      "Accuracy: 73.2945%\n",
      "Total time (in seconds): 202.77445077896118\n"
     ]
    }
   ],
   "source": [
    "print(f'Accuracy: {round(accuracy_score(y_test, pred)*100, 4)}%')\n",
    "end = time.time()\n",
    "finalTime = end - start\n",
    "print(\"Total time (in seconds): \" + str(finalTime))\n"
   ]
  },
  {
   "cell_type": "code",
   "execution_count": 22,
   "id": "2edd1788",
   "metadata": {},
   "outputs": [],
   "source": [
    "#RF\n",
    "import pandas as pd\n",
    "import matplotlib.pyplot as plt\n",
    "import seaborn as sns\n",
    "%matplotlib inline"
   ]
  },
  {
   "cell_type": "code",
   "execution_count": 23,
   "id": "c468d9c2",
   "metadata": {},
   "outputs": [
    {
     "data": {
      "text/plain": [
       "url                           0\n",
       "domain_registration_length    0\n",
       "ratio_digits_url              0\n",
       "ratio_intHyperlinks           0\n",
       "ratio_extHyperlinks           0\n",
       "domain_age                    0\n",
       "web_traffic                   0\n",
       "status                        0\n",
       "dtype: int64"
      ]
     },
     "execution_count": 23,
     "metadata": {},
     "output_type": "execute_result"
    }
   ],
   "source": [
    "pd.set_option('display.max_rows', 500)\n",
    "data.isna().sum()\n",
    "\n"
   ]
  },
  {
   "cell_type": "code",
   "execution_count": 24,
   "id": "4316347f",
   "metadata": {},
   "outputs": [],
   "source": [
    "original_dataset = data.copy()\n"
   ]
  },
  {
   "cell_type": "code",
   "execution_count": 25,
   "id": "c2c4038f",
   "metadata": {},
   "outputs": [],
   "source": [
    "class_map = {'legitimate':0, 'phishing':1}\n",
    "original_dataset['status'] = original_dataset['status'].map(class_map)\n"
   ]
  },
  {
   "cell_type": "code",
   "execution_count": 26,
   "id": "93847e91",
   "metadata": {},
   "outputs": [],
   "source": [
    "corr_matrix = original_dataset.corr()"
   ]
  },
  {
   "cell_type": "code",
   "execution_count": 27,
   "id": "2e68b3f0",
   "metadata": {},
   "outputs": [
    {
     "data": {
      "image/png": "[encoded data removed]",
      "text/plain": [
       "<Figure size 6000x6000 with 2 Axes>"
      ]
     },
     "metadata": {},
     "output_type": "display_data"
    }
   ],
   "source": [
    "plt.figure(figsize=(60,60))\n",
    "color = plt.get_cmap('viridis').copy()   # default color\n",
    "color.set_bad('lightblue') \n",
    "sns.heatmap(corr_matrix, annot=True, linewidth=0.4, cmap=color)\n",
    "plt.savefig('heatmap')\n",
    "plt.show()"
   ]
  },
  {
   "cell_type": "code",
   "execution_count": 28,
   "id": "a2ad5a11",
   "metadata": {},
   "outputs": [
    {
     "data": {
      "text/plain": [
       "(7, 7)"
      ]
     },
     "execution_count": 28,
     "metadata": {},
     "output_type": "execute_result"
    }
   ],
   "source": [
    "corr_matrix.shape"
   ]
  },
  {
   "cell_type": "code",
   "execution_count": 29,
   "id": "f6df98a1",
   "metadata": {},
   "outputs": [
    {
     "data": {
      "text/plain": [
       "domain_registration_length   -0.161719\n",
       "ratio_digits_url              0.356395\n",
       "ratio_intHyperlinks          -0.243982\n",
       "ratio_extHyperlinks           0.083357\n",
       "domain_age                   -0.331889\n",
       "web_traffic                   0.060388\n",
       "status                        1.000000\n",
       "Name: status, dtype: float64"
      ]
     },
     "execution_count": 29,
     "metadata": {},
     "output_type": "execute_result"
    }
   ],
   "source": [
    "corr_matrix['status']"
   ]
  },
  {
   "cell_type": "code",
   "execution_count": 30,
   "id": "a62bcfee",
   "metadata": {},
   "outputs": [
    {
     "data": {
      "text/plain": [
       "(7,)"
      ]
     },
     "execution_count": 30,
     "metadata": {},
     "output_type": "execute_result"
    }
   ],
   "source": [
    "status_corr = corr_matrix['status']\n",
    "status_corr.shape\n"
   ]
  },
  {
   "cell_type": "code",
   "execution_count": 31,
   "id": "a20e03f1",
   "metadata": {},
   "outputs": [],
   "source": [
    "def feature_selector_correlation(cmatrix, threshold):\n",
    "    \n",
    "    selected_features = []\n",
    "    feature_score = []\n",
    "    i=0\n",
    "    for score in cmatrix:\n",
    "        if abs(score)>threshold:\n",
    "            selected_features.append(cmatrix.index[i])\n",
    "            feature_score.append( ['{:3f}'.format(score)])\n",
    "        i+=1\n",
    "    result = list(zip(selected_features,feature_score)) \n",
    "    return result"
   ]
  },
  {
   "cell_type": "code",
   "execution_count": 32,
   "id": "96c95ee1",
   "metadata": {},
   "outputs": [
    {
     "data": {
      "text/plain": [
       "[('ratio_digits_url', ['0.356395']),\n",
       " ('ratio_intHyperlinks', ['-0.243982']),\n",
       " ('domain_age', ['-0.331889']),\n",
       " ('status', ['1.000000'])]"
      ]
     },
     "execution_count": 32,
     "metadata": {},
     "output_type": "execute_result"
    }
   ],
   "source": [
    "features_selected = feature_selector_correlation(status_corr, 0.2)\n",
    "features_selected"
   ]
  },
  {
   "cell_type": "code",
   "execution_count": 33,
   "id": "5c03f9f0",
   "metadata": {},
   "outputs": [
    {
     "data": {
      "text/plain": [
       "['ratio_digits_url', 'ratio_intHyperlinks', 'domain_age']"
      ]
     },
     "execution_count": 33,
     "metadata": {},
     "output_type": "execute_result"
    }
   ],
   "source": [
    "selected_features = [i for (i,j) in features_selected if i != 'status']\n",
    "selected_features\n"
   ]
  },
  {
   "cell_type": "code",
   "execution_count": 34,
   "id": "ffe203f9",
   "metadata": {},
   "outputs": [
    {
     "data": {
      "text/html": [
       "<div>\n",
       "<style scoped>\n",
       "    .dataframe tbody tr th:only-of-type {\n",
       "        vertical-align: middle;\n",
       "    }\n",
       "\n",
       "    .dataframe tbody tr th {\n",
       "        vertical-align: top;\n",
       "    }\n",
       "\n",
       "    .dataframe thead th {\n",
       "        text-align: right;\n",
       "    }\n",
       "</style>\n",
       "<table border=\"1\" class=\"dataframe\">\n",
       "  <thead>\n",
       "    <tr style=\"text-align: right;\">\n",
       "      <th></th>\n",
       "      <th>ratio_digits_url</th>\n",
       "      <th>ratio_intHyperlinks</th>\n",
       "      <th>domain_age</th>\n",
       "    </tr>\n",
       "  </thead>\n",
       "  <tbody>\n",
       "    <tr>\n",
       "      <th>0</th>\n",
       "      <td>0.000000</td>\n",
       "      <td>0.529412</td>\n",
       "      <td>-1</td>\n",
       "    </tr>\n",
       "    <tr>\n",
       "      <th>1</th>\n",
       "      <td>0.220779</td>\n",
       "      <td>0.966667</td>\n",
       "      <td>5767</td>\n",
       "    </tr>\n",
       "    <tr>\n",
       "      <th>2</th>\n",
       "      <td>0.150794</td>\n",
       "      <td>1.000000</td>\n",
       "      <td>4004</td>\n",
       "    </tr>\n",
       "    <tr>\n",
       "      <th>3</th>\n",
       "      <td>0.000000</td>\n",
       "      <td>0.973154</td>\n",
       "      <td>-1</td>\n",
       "    </tr>\n",
       "    <tr>\n",
       "      <th>4</th>\n",
       "      <td>0.000000</td>\n",
       "      <td>0.470588</td>\n",
       "      <td>8175</td>\n",
       "    </tr>\n",
       "    <tr>\n",
       "      <th>...</th>\n",
       "      <td>...</td>\n",
       "      <td>...</td>\n",
       "      <td>...</td>\n",
       "    </tr>\n",
       "    <tr>\n",
       "      <th>11425</th>\n",
       "      <td>0.000000</td>\n",
       "      <td>0.884422</td>\n",
       "      <td>5396</td>\n",
       "    </tr>\n",
       "    <tr>\n",
       "      <th>11426</th>\n",
       "      <td>0.023810</td>\n",
       "      <td>1.000000</td>\n",
       "      <td>6728</td>\n",
       "    </tr>\n",
       "    <tr>\n",
       "      <th>11427</th>\n",
       "      <td>0.142857</td>\n",
       "      <td>0.470588</td>\n",
       "      <td>8515</td>\n",
       "    </tr>\n",
       "    <tr>\n",
       "      <th>11428</th>\n",
       "      <td>0.000000</td>\n",
       "      <td>0.375000</td>\n",
       "      <td>2836</td>\n",
       "    </tr>\n",
       "    <tr>\n",
       "      <th>11429</th>\n",
       "      <td>0.085954</td>\n",
       "      <td>0.428571</td>\n",
       "      <td>-1</td>\n",
       "    </tr>\n",
       "  </tbody>\n",
       "</table>\n",
       "<p>11430 rows × 3 columns</p>\n",
       "</div>"
      ],
      "text/plain": [
       "       ratio_digits_url  ratio_intHyperlinks  domain_age\n",
       "0              0.000000             0.529412          -1\n",
       "1              0.220779             0.966667        5767\n",
       "2              0.150794             1.000000        4004\n",
       "3              0.000000             0.973154          -1\n",
       "4              0.000000             0.470588        8175\n",
       "...                 ...                  ...         ...\n",
       "11425          0.000000             0.884422        5396\n",
       "11426          0.023810             1.000000        6728\n",
       "11427          0.142857             0.470588        8515\n",
       "11428          0.000000             0.375000        2836\n",
       "11429          0.085954             0.428571          -1\n",
       "\n",
       "[11430 rows x 3 columns]"
      ]
     },
     "execution_count": 34,
     "metadata": {},
     "output_type": "execute_result"
    }
   ],
   "source": [
    "X_selected = original_dataset[selected_features]\n",
    "X_selected"
   ]
  },
  {
   "cell_type": "code",
   "execution_count": 35,
   "id": "7eb3e39b",
   "metadata": {},
   "outputs": [
    {
     "data": {
      "text/plain": [
       "(11430, 3)"
      ]
     },
     "execution_count": 35,
     "metadata": {},
     "output_type": "execute_result"
    }
   ],
   "source": [
    "X_selected.shape"
   ]
  },
  {
   "cell_type": "code",
   "execution_count": 36,
   "id": "4b9b3ee7",
   "metadata": {},
   "outputs": [
    {
     "data": {
      "text/plain": [
       "0        0\n",
       "1        1\n",
       "2        1\n",
       "3        0\n",
       "4        0\n",
       "        ..\n",
       "11425    0\n",
       "11426    1\n",
       "11427    0\n",
       "11428    0\n",
       "11429    1\n",
       "Name: status, Length: 11430, dtype: int64"
      ]
     },
     "execution_count": 36,
     "metadata": {},
     "output_type": "execute_result"
    }
   ],
   "source": [
    "y = original_dataset['status']\n",
    "y\n"
   ]
  },
  {
   "cell_type": "code",
   "execution_count": 37,
   "id": "55c460f2",
   "metadata": {},
   "outputs": [],
   "source": [
    "from sklearn.model_selection import train_test_split\n"
   ]
  },
  {
   "cell_type": "code",
   "execution_count": 38,
   "id": "4d5ab178",
   "metadata": {},
   "outputs": [],
   "source": [
    "X_train, X_test, y_train, y_test = train_test_split(X_selected, y,\n",
    "                                                    test_size=0.2,\n",
    "                                                    random_state=42,\n",
    "                                                    shuffle = True)\n"
   ]
  },
  {
   "cell_type": "code",
   "execution_count": 39,
   "id": "341c0112",
   "metadata": {},
   "outputs": [],
   "source": [
    "from sklearn.ensemble import RandomForestClassifier"
   ]
  },
  {
   "cell_type": "code",
   "execution_count": 40,
   "id": "e1167480",
   "metadata": {},
   "outputs": [
    {
     "data": {
      "text/plain": [
       "RandomForestClassifier(n_estimators=350, random_state=42)"
      ]
     },
     "execution_count": 40,
     "metadata": {},
     "output_type": "execute_result"
    }
   ],
   "source": [
    "model_random_forest = RandomForestClassifier(n_estimators=350,\n",
    "                                             random_state=42,\n",
    "                                             )\n",
    "\n",
    "\n",
    "model_random_forest.fit(X_train,y_train)\n"
   ]
  },
  {
   "cell_type": "code",
   "execution_count": 41,
   "id": "67158ef4",
   "metadata": {},
   "outputs": [],
   "source": [
    "from sklearn import preprocessing\n",
    "from sklearn.metrics import accuracy_score, confusion_matrix, roc_auc_score\n"
   ]
  },
  {
   "cell_type": "code",
   "execution_count": 42,
   "id": "ff61dd99",
   "metadata": {},
   "outputs": [],
   "source": [
    "def custom_accuracy_set (model, X_train, X_test, y_train, y_test, train=True):\n",
    "    \n",
    "    lb = preprocessing.LabelBinarizer()\n",
    "    lb.fit(y_train)\n",
    "    \n",
    "    \n",
    "    if train:\n",
    "        x = X_train\n",
    "        y = y_train\n",
    "    elif not train:\n",
    "        x = X_test\n",
    "        y = y_test\n",
    "        \n",
    "    y_predicted = model.predict(x)\n",
    "    \n",
    "    accuracy = accuracy_score(y, y_predicted)\n",
    "    print('model accuracy: {0:4f}'.format(accuracy))\n",
    "    oconfusion_matrix = confusion_matrix(y, y_predicted)\n",
    "    print('Confusion matrix: \\n {}'.format(oconfusion_matrix))\n",
    "    oroc_auc_score = lb.transform(y), lb.transform(y_predicted)\t"
   ]
  },
  {
   "cell_type": "code",
   "execution_count": 43,
   "id": "c9041b20",
   "metadata": {},
   "outputs": [
    {
     "name": "stdout",
     "output_type": "stream",
     "text": [
      "model accuracy: 0.983924\n",
      "Confusion matrix: \n",
      " [[4457  101]\n",
      " [  46 4540]]\n"
     ]
    }
   ],
   "source": [
    "custom_accuracy_set(model_random_forest, X_train, X_test, y_train, y_test, train=True)\n"
   ]
  },
  {
   "cell_type": "code",
   "execution_count": 44,
   "id": "0c95f63b",
   "metadata": {},
   "outputs": [
    {
     "name": "stdout",
     "output_type": "stream",
     "text": [
      "model accuracy: 0.856955\n",
      "Confusion matrix: \n",
      " [[981 176]\n",
      " [151 978]]\n"
     ]
    }
   ],
   "source": [
    "custom_accuracy_set(model_random_forest, X_train, X_test, y_train, y_test, train=False)"
   ]
  },
  {
   "cell_type": "code",
   "execution_count": 45,
   "id": "8c18dd67",
   "metadata": {},
   "outputs": [],
   "source": [
    "#MLP\n",
    "import numpy as np\n",
    "import pandas as pd\n",
    "from sklearn.metrics import confusion_matrix , accuracy_score , precision_score , recall_score , f1_score\n",
    "from sklearn.feature_selection import SelectPercentile , chi2 , f_classif\n",
    "from sklearn.model_selection import train_test_split\n",
    "import sklearn.metrics\n",
    "from sklearn.linear_model import LogisticRegression\n",
    "from sklearn.svm import SVC\n",
    "import matplotlib.pyplot as plt\n",
    "from sklearn.preprocessing import StandardScaler\n",
    "from sklearn.neural_network import MLPClassifier"
   ]
  },
  {
   "cell_type": "code",
   "execution_count": 46,
   "id": "41527d4c",
   "metadata": {},
   "outputs": [],
   "source": [
    "X = data.copy()\n",
    "\n",
    "Y = data[\"status\"]\n",
    "\n",
    "X.drop([\"status\" , \"url\"] , axis=1 , inplace=True)\n",
    "\n",
    "Cols = X.columns;\n",
    "\n",
    "Y = Y == \"legitimate\""
   ]
  },
  {
   "cell_type": "code",
   "execution_count": 47,
   "id": "27fcba21",
   "metadata": {},
   "outputs": [],
   "source": [
    "Scaler = StandardScaler(copy=True , with_mean=True , with_std=True)\n",
    "X = Scaler.fit_transform(X)\n"
   ]
  },
  {
   "cell_type": "code",
   "execution_count": 48,
   "id": "38dd2198",
   "metadata": {},
   "outputs": [],
   "source": [
    "SP = SelectPercentile(score_func=f_classif , percentile=60)"
   ]
  },
  {
   "cell_type": "code",
   "execution_count": 49,
   "id": "4eb26441",
   "metadata": {},
   "outputs": [],
   "source": [
    "X = SP.fit_transform(X , Y)\n"
   ]
  },
  {
   "cell_type": "code",
   "execution_count": 50,
   "id": "3a09d8e0",
   "metadata": {},
   "outputs": [
    {
     "name": "stdout",
     "output_type": "stream",
     "text": [
      "Number Of Features :  Index(['ratio_digits_url', 'ratio_intHyperlinks', 'domain_age'], dtype='object')\n"
     ]
    }
   ],
   "source": [
    "print(\"Number Of Features : \" , Cols[SP.get_support()])"
   ]
  },
  {
   "cell_type": "code",
   "execution_count": 51,
   "id": "b189ad19",
   "metadata": {},
   "outputs": [],
   "source": [
    "x_train , x_test , y_train , y_test = train_test_split(X , Y , test_size=0.20 , random_state=10 , shuffle=True)\n"
   ]
  },
  {
   "cell_type": "code",
   "execution_count": 52,
   "id": "62b2b69a",
   "metadata": {},
   "outputs": [
    {
     "name": "stdout",
     "output_type": "stream",
     "text": [
      "Score Model For Training Data :  0.8332239720034995\n"
     ]
    },
    {
     "name": "stderr",
     "output_type": "stream",
     "text": [
      "C:\\Users\\18145\\anaconda3\\lib\\site-packages\\sklearn\\neural_network\\_multilayer_perceptron.py:692: ConvergenceWarning: Stochastic Optimizer: Maximum iterations (100) reached and the optimization hasn't converged yet.\n",
      "  warnings.warn(\n"
     ]
    }
   ],
   "source": [
    "Model = MLPClassifier(solver='adam' , alpha=0.01 , hidden_layer_sizes=(100 , 100 , 100 , 100) , max_iter=100 , random_state=44)\n",
    "Ans1 = Model.fit(x_train , y_train)\n",
    "print(\"Score Model For Training Data : \" , Model.score(x_train , y_train))"
   ]
  },
  {
   "cell_type": "code",
   "execution_count": 53,
   "id": "4a027dee",
   "metadata": {},
   "outputs": [
    {
     "name": "stdout",
     "output_type": "stream",
     "text": [
      "Confusion Matrix of the Test Set\n",
      "-----------\n",
      "[[ 902  232]\n",
      " [ 152 1000]]\n",
      "Precision of the MLP :\t0.8116883116883117\n",
      "Recall of the MLP    :\t0.8680555555555556\n",
      "F1 Score of the MLP :\t0.8389261744966443\n",
      "Accuracy Score of the MLP :\t0.8320209973753281\n"
     ]
    }
   ],
   "source": [
    "YPred = Ans1.predict(x_test)\n",
    "conf_matrix = confusion_matrix(y_test ,YPred)\n",
    "print(\"Confusion Matrix of the Test Set\")\n",
    "print(\"-----------\")\n",
    "print(conf_matrix)\n",
    "print(\"Precision of the MLP :\\t\"+str(precision_score(y_test,YPred)))\n",
    "print(\"Recall of the MLP    :\\t\"+str(recall_score(y_test,YPred)))\n",
    "print(\"F1 Score of the MLP :\\t\"+str(f1_score(y_test,YPred)))\n",
    "print(\"Accuracy Score of the MLP :\\t\"+str(accuracy_score(y_test,YPred)))\n"
   ]
  },
  {
   "cell_type": "code",
   "execution_count": 54,
   "id": "6d692a0e",
   "metadata": {},
   "outputs": [],
   "source": [
    "#XGBoost\n",
    "import numpy as np # linear algebra\n",
    "import pandas as pd # data processing, CSV file I/O (e.g. pd.read_csv)\n",
    "import os"
   ]
  },
  {
   "cell_type": "code",
   "execution_count": 55,
   "id": "f0eab637",
   "metadata": {},
   "outputs": [
    {
     "name": "stdout",
     "output_type": "stream",
     "text": [
      "                                                     url  tld_in_subdomain  \\\n",
      "0                  http://www.crestonwood.com/router.php                 0   \n",
      "1      http://shadetreetechnology.com/V4/validation/a...                 0   \n",
      "2      https://support-appleld.com.secureupdate.duila...                 1   \n",
      "3                                     http://rgipt.ac.in                 0   \n",
      "4      http://www.iracing.com/tracks/gateway-motorspo...                 0   \n",
      "...                                                  ...               ...   \n",
      "11425      http://www.fontspace.com/category/blackletter                 0   \n",
      "11426  http://www.budgetbots.com/server.php/Server%20...                 0   \n",
      "11427  https://www.facebook.com/Interactive-Televisio...                 0   \n",
      "11428             http://www.mypublicdomainpictures.com/                 0   \n",
      "11429  http://174.139.46.123/ap/signin?openid.pape.ma...                 1   \n",
      "\n",
      "       nb_dslash  dns_record  nb_and  nb_semicolumn  phish_hints  \\\n",
      "0              0           1       0              0            0   \n",
      "1              0           0       0              0            0   \n",
      "2              0           0       2              0            0   \n",
      "3              0           0       0              0            0   \n",
      "4              0           0       0              0            0   \n",
      "...          ...         ...     ...            ...          ...   \n",
      "11425          0           0       0              0            0   \n",
      "11426          0           0       0              0            0   \n",
      "11427          0           0       0              0            0   \n",
      "11428          0           0       0              0            0   \n",
      "11429          0           1       9              9            3   \n",
      "\n",
      "       ratio_digits_host  abnormal_subdomain  ratio_digits_url  web_traffic  \\\n",
      "0               0.000000                   0          0.000000            0   \n",
      "1               0.000000                   0          0.220779            0   \n",
      "2               0.000000                   0          0.150794      5828815   \n",
      "3               0.000000                   0          0.000000       107721   \n",
      "4               0.000000                   0          0.000000         8725   \n",
      "...                  ...                 ...               ...          ...   \n",
      "11425           0.000000                   0          0.000000         3980   \n",
      "11426           0.000000                   0          0.023810            0   \n",
      "11427           0.000000                   0          0.142857            8   \n",
      "11428           0.000000                   0          0.000000      2455493   \n",
      "11429           0.785714                   1          0.085954            0   \n",
      "\n",
      "           status  \n",
      "0      legitimate  \n",
      "1        phishing  \n",
      "2        phishing  \n",
      "3      legitimate  \n",
      "4      legitimate  \n",
      "...           ...  \n",
      "11425  legitimate  \n",
      "11426    phishing  \n",
      "11427  legitimate  \n",
      "11428  legitimate  \n",
      "11429    phishing  \n",
      "\n",
      "[11430 rows x 12 columns]\n"
     ]
    }
   ],
   "source": [
    "data = pd.read_csv('dataset_phishing set with 10 extracted features by feature engineering.csv')\n",
    "print(data)"
   ]
  },
  {
   "cell_type": "code",
   "execution_count": 56,
   "id": "206f997a",
   "metadata": {},
   "outputs": [
    {
     "name": "stdout",
     "output_type": "stream",
     "text": [
      "Requirement already satisfied: xgboost in c:\\users\\18145\\anaconda3\\lib\\site-packages (1.7.5)\n",
      "Requirement already satisfied: scipy in c:\\users\\18145\\anaconda3\\lib\\site-packages (from xgboost) (1.9.1)\n",
      "Requirement already satisfied: numpy in c:\\users\\18145\\anaconda3\\lib\\site-packages (from xgboost) (1.23.5)\n",
      "Note: you may need to restart the kernel to use updated packages.\n"
     ]
    }
   ],
   "source": [
    "pip install xgboost"
   ]
  },
  {
   "cell_type": "code",
   "execution_count": 57,
   "id": "489a7ef5",
   "metadata": {},
   "outputs": [],
   "source": [
    "import pandas as pd\n",
    "\n",
    "from sklearn.compose import ColumnTransformer\n",
    "from sklearn.pipeline import Pipeline\n",
    "from sklearn.impute import SimpleImputer\n",
    "from sklearn.preprocessing import OneHotEncoder\n",
    "from sklearn.ensemble import RandomForestRegressor\n",
    "from sklearn.ensemble import RandomForestClassifier\n",
    "from sklearn.metrics import mean_absolute_error\n",
    "from sklearn.metrics import balanced_accuracy_score\n",
    "from xgboost import XGBRegressor\n",
    "\n",
    "import matplotlib.pyplot as plt\n",
    "from sklearn.linear_model import LogisticRegression\n",
    "\n",
    "data.columns\n",
    "\n",
    "\n",
    "\n",
    "\n",
    "from sklearn.model_selection import train_test_split\n"
   ]
  },
  {
   "cell_type": "code",
   "execution_count": 58,
   "id": "d27393e9",
   "metadata": {},
   "outputs": [],
   "source": [
    "y = data.status\n",
    "X = data.drop(['status'], axis=1)"
   ]
  },
  {
   "cell_type": "code",
   "execution_count": 59,
   "id": "61150f68",
   "metadata": {},
   "outputs": [],
   "source": [
    "X_train_full, X_valid_full, y_train, y_valid = train_test_split(X, y, train_size=0.8, test_size=0.2,\n",
    "                                                                random_state=0)"
   ]
  },
  {
   "cell_type": "code",
   "execution_count": 60,
   "id": "7fae0cc0",
   "metadata": {},
   "outputs": [],
   "source": [
    "categorical_cols = [cname for cname in X_train_full.columns if X_train_full[cname].nunique() < 10 and \n",
    "                        X_train_full[cname].dtype == \"object\"]\n"
   ]
  },
  {
   "cell_type": "code",
   "execution_count": 61,
   "id": "d04d99cd",
   "metadata": {},
   "outputs": [],
   "source": [
    "numerical_cols = [cname for cname in X_train_full.columns if X_train_full[cname].dtype in ['int64', 'float64']]\n"
   ]
  },
  {
   "cell_type": "code",
   "execution_count": 62,
   "id": "804e1340",
   "metadata": {},
   "outputs": [],
   "source": [
    "my_cols = categorical_cols + numerical_cols\n",
    "X_train = X_train_full[my_cols].copy()\n",
    "X_valid = X_valid_full[my_cols].copy()\n",
    "\n"
   ]
  },
  {
   "cell_type": "code",
   "execution_count": 63,
   "id": "30e016f5",
   "metadata": {},
   "outputs": [],
   "source": [
    "numerical_transformer = SimpleImputer(strategy='constant')\n",
    "\n"
   ]
  },
  {
   "cell_type": "code",
   "execution_count": 64,
   "id": "702fbb55",
   "metadata": {},
   "outputs": [],
   "source": [
    "categorical_transformer = Pipeline(steps=[\n",
    "    ('imputer', SimpleImputer(strategy='most_frequent')),\n",
    "    ('onehot', OneHotEncoder(handle_unknown='ignore'))\n",
    "])\n"
   ]
  },
  {
   "cell_type": "code",
   "execution_count": 65,
   "id": "005d7787",
   "metadata": {},
   "outputs": [],
   "source": [
    "preprocessor = ColumnTransformer(\n",
    "    transformers=[\n",
    "        ('num', numerical_transformer, numerical_cols),\n",
    "        ('cat', categorical_transformer, categorical_cols)\n",
    "    ])\n"
   ]
  },
  {
   "cell_type": "code",
   "execution_count": 66,
   "id": "76af5ca7",
   "metadata": {},
   "outputs": [
    {
     "name": "stdout",
     "output_type": "stream",
     "text": [
      "<bound method NDFrame.describe of                                                      url  tld_in_subdomain  \\\n",
      "0                  http://www.crestonwood.com/router.php                 0   \n",
      "1      http://shadetreetechnology.com/V4/validation/a...                 0   \n",
      "2      https://support-appleld.com.secureupdate.duila...                 1   \n",
      "3                                     http://rgipt.ac.in                 0   \n",
      "4      http://www.iracing.com/tracks/gateway-motorspo...                 0   \n",
      "...                                                  ...               ...   \n",
      "11425      http://www.fontspace.com/category/blackletter                 0   \n",
      "11426  http://www.budgetbots.com/server.php/Server%20...                 0   \n",
      "11427  https://www.facebook.com/Interactive-Televisio...                 0   \n",
      "11428             http://www.mypublicdomainpictures.com/                 0   \n",
      "11429  http://174.139.46.123/ap/signin?openid.pape.ma...                 1   \n",
      "\n",
      "       nb_dslash  dns_record  nb_and  nb_semicolumn  phish_hints  \\\n",
      "0              0           1       0              0            0   \n",
      "1              0           0       0              0            0   \n",
      "2              0           0       2              0            0   \n",
      "3              0           0       0              0            0   \n",
      "4              0           0       0              0            0   \n",
      "...          ...         ...     ...            ...          ...   \n",
      "11425          0           0       0              0            0   \n",
      "11426          0           0       0              0            0   \n",
      "11427          0           0       0              0            0   \n",
      "11428          0           0       0              0            0   \n",
      "11429          0           1       9              9            3   \n",
      "\n",
      "       ratio_digits_host  abnormal_subdomain  ratio_digits_url  web_traffic  \\\n",
      "0               0.000000                   0          0.000000            0   \n",
      "1               0.000000                   0          0.220779            0   \n",
      "2               0.000000                   0          0.150794      5828815   \n",
      "3               0.000000                   0          0.000000       107721   \n",
      "4               0.000000                   0          0.000000         8725   \n",
      "...                  ...                 ...               ...          ...   \n",
      "11425           0.000000                   0          0.000000         3980   \n",
      "11426           0.000000                   0          0.023810            0   \n",
      "11427           0.000000                   0          0.142857            8   \n",
      "11428           0.000000                   0          0.000000      2455493   \n",
      "11429           0.785714                   1          0.085954            0   \n",
      "\n",
      "           status  \n",
      "0      legitimate  \n",
      "1        phishing  \n",
      "2        phishing  \n",
      "3      legitimate  \n",
      "4      legitimate  \n",
      "...           ...  \n",
      "11425  legitimate  \n",
      "11426    phishing  \n",
      "11427  legitimate  \n",
      "11428  legitimate  \n",
      "11429    phishing  \n",
      "\n",
      "[11430 rows x 12 columns]>\n"
     ]
    }
   ],
   "source": [
    "print(data.describe)"
   ]
  },
  {
   "cell_type": "code",
   "execution_count": 67,
   "id": "b9b9d4c4",
   "metadata": {},
   "outputs": [],
   "source": [
    "from sklearn.preprocessing import LabelEncoder\n",
    "le = LabelEncoder()\n",
    "y_train = le.fit_transform(y_train)\n"
   ]
  },
  {
   "cell_type": "code",
   "execution_count": 68,
   "id": "46f717ed",
   "metadata": {},
   "outputs": [],
   "source": [
    "y_valid = le.fit_transform(y_valid)"
   ]
  },
  {
   "cell_type": "code",
   "execution_count": 69,
   "id": "9c259030",
   "metadata": {},
   "outputs": [
    {
     "name": "stdout",
     "output_type": "stream",
     "text": [
      "[0 1 0 ... 1 1 1]\n"
     ]
    }
   ],
   "source": [
    "print(y_train)"
   ]
  },
  {
   "cell_type": "code",
   "execution_count": 70,
   "id": "cc2385d0",
   "metadata": {},
   "outputs": [],
   "source": [
    "import xgboost as xgb\n",
    "from sklearn.metrics import accuracy_score"
   ]
  },
  {
   "cell_type": "code",
   "execution_count": 71,
   "id": "8040a573",
   "metadata": {},
   "outputs": [],
   "source": [
    "model = xgb.XGBClassifier()"
   ]
  },
  {
   "cell_type": "code",
   "execution_count": 72,
   "id": "b36429b6",
   "metadata": {},
   "outputs": [],
   "source": [
    "my_pipeline = Pipeline(steps=[('preprocessor', preprocessor),\n",
    "                              ('model', model)\n",
    "                             ])"
   ]
  },
  {
   "cell_type": "code",
   "execution_count": 73,
   "id": "8e3e476a",
   "metadata": {},
   "outputs": [
    {
     "data": {
      "text/plain": [
       "Pipeline(steps=[('preprocessor',\n",
       "                 ColumnTransformer(transformers=[('num',\n",
       "                                                  SimpleImputer(strategy='constant'),\n",
       "                                                  ['tld_in_subdomain',\n",
       "                                                   'nb_dslash', 'dns_record',\n",
       "                                                   'nb_and', 'nb_semicolumn',\n",
       "                                                   'phish_hints',\n",
       "                                                   'ratio_digits_host',\n",
       "                                                   'abnormal_subdomain',\n",
       "                                                   'ratio_digits_url',\n",
       "                                                   'web_traffic']),\n",
       "                                                 ('cat',\n",
       "                                                  Pipeline(steps=[('imputer',\n",
       "                                                                   SimpleImputer(strategy='most_frequent')),\n",
       "                                                                  ('onehot'...\n",
       "                               feature_types=None, gamma=None, gpu_id=None,\n",
       "                               grow_policy=None, importance_type=None,\n",
       "                               interaction_constraints=None, learning_rate=None,\n",
       "                               max_bin=None, max_cat_threshold=None,\n",
       "                               max_cat_to_onehot=None, max_delta_step=None,\n",
       "                               max_depth=None, max_leaves=None,\n",
       "                               min_child_weight=None, missing=nan,\n",
       "                               monotone_constraints=None, n_estimators=100,\n",
       "                               n_jobs=None, num_parallel_tree=None,\n",
       "                               predictor=None, random_state=None, ...))])"
      ]
     },
     "execution_count": 73,
     "metadata": {},
     "output_type": "execute_result"
    }
   ],
   "source": [
    "my_pipeline.fit(X_train, y_train)\n"
   ]
  },
  {
   "cell_type": "code",
   "execution_count": 74,
   "id": "20571b55",
   "metadata": {},
   "outputs": [
    {
     "name": "stdout",
     "output_type": "stream",
     "text": [
      "0.8661417322834646\n"
     ]
    }
   ],
   "source": [
    "preds = my_pipeline.predict(X_valid)\n",
    "print(accuracy_score(preds,y_valid))"
   ]
  },
  {
   "cell_type": "code",
   "execution_count": null,
   "id": "414f563b",
   "metadata": {},
   "outputs": [],
   "source": []
  }
 ],
 "metadata": {
  "kernelspec": {
   "display_name": "Python 3 (ipykernel)",
   "language": "python",
   "name": "python3"
  },
  "language_info": {
   "codemirror_mode": {
    "name": "ipython",
    "version": 3
   },
   "file_extension": ".py",
   "mimetype": "text/x-python",
   "name": "python",
   "nbconvert_exporter": "python",
   "pygments_lexer": "ipython3",
   "version": "3.9.13"
  }
 },
 "nbformat": 4,
 "nbformat_minor": 5
}
